{
 "cells": [
  {
   "cell_type": "code",
   "execution_count": 12,
   "metadata": {},
   "outputs": [
    {
     "data": {
      "text/plain": [
       "[<img alt=\"\" height=\"28\" onerror=\"naver.common.handleImgError(this)\" src=\"https://search.pstatic.net/common/?src=http%3A%2F%2Fblogfiles.naver.net%2FMjAyMTA4MDRfMjUz%2FMDAxNjI4MDc3NDE3NDQ0.kJMCsM9u-MIwiFI9i8V3pOtuKBv1CE_cQhvDzXP8Z1Yg.oX4yRz3veu5SN97XQXQ6lqNoAFh63IoPuLv32H8xmhAg.JPEG.como3449%2Foutput_156579525.jpg&amp;type=f54_54\" width=\"28\"/>,\n",
       " <img alt=\"\" height=\"28\" onerror=\"naver.common.handleImgError(this)\" src=\"https://search.pstatic.net/common/?src=http%3A%2F%2Fblogfiles.naver.net%2FMjAyMzExMDRfMTgg%2FMDAxNjk5MDI0OTg4MDY0.oUEldHOE4qHumJX_kpPPf3DU5CkDC16J37XFGNL0xZgg.ceF5KSA5tTE1B76uYt4DVfIFvgaUc8Yzz1PZgdVziC0g.PNG.bjsg0606%2F20231104_001807.png&amp;type=f54_54\" width=\"28\"/>,\n",
       " <img alt=\"\" height=\"28\" onerror=\"naver.common.handleImgError(this)\" src=\"https://search.pstatic.net/common/?src=http%3A%2F%2Fblogfiles.naver.net%2FMjAyMzA1MjNfMTcg%2FMDAxNjg0ODIxNTAzMjUy.xr7pS3-lPL7I1NbRVEMckWqxwzxgOsYxRqJ84T-rFW4g.cZlYYgrgP9Lkdg3BY0Tkq-zROQ1GFhay5MybboPwv0sg.JPEG.j_king%2FIMG_5436.jpg&amp;type=f54_54\" width=\"28\"/>,\n",
       " <img alt=\"\" height=\"28\" onerror=\"naver.common.handleImgError(this)\" src=\"https://search.pstatic.net/common/?src=http%3A%2F%2Fblogfiles.naver.net%2FMjAyMjAyMTJfNTIg%2FMDAxNjQ0NjU3NTQzMTUz.Xmjcbx5dDd-z0Eq9ePt4Vlvwy7Vu8E7v7OBQFqhphsog.eNHlsx5xMoSA2_G_QKyxSN9Lslex-fWKzzjVv1IzbWYg.JPEG.anji1225%2FIMG_5349.JPG&amp;type=f54_54\" width=\"28\"/>,\n",
       " <img alt=\"\" height=\"28\" onerror=\"naver.common.handleImgError(this)\" src=\"https://search.pstatic.net/common/?src=http%3A%2F%2Fblogfiles.naver.net%2FMjAyMzA1MDNfMTYx%2FMDAxNjgzMTE3MjYyMDMx.a7pzihfgrQO1_y0Y_TP7SLboCjmtlee3oM_CqdCte_kg.cGqw0lk9jcpMu6kp3YjwxCTteHq1oYLQBwct_iWSyKwg.JPEG.wjdtnstjd%2FIMG_4372.jpg&amp;type=f54_54\" width=\"28\"/>,\n",
       " <img alt=\"\" height=\"28\" onerror=\"naver.common.handleImgError(this)\" src=\"https://search.pstatic.net/common/?src=http%3A%2F%2Fblogfiles.naver.net%2FMjAyMjEwMzBfMTk0%2FMDAxNjY3MTM1NTM1NjMz.yLHw5u7z6bc1FTSE5IWnYTcVd-RdgwIozh9iAB_7NTIg.4CwD7XAnv03XQ7ZSnM-tpmMCUvOZaQGaoDY7-QV34YUg.JPEG.yoonjiwon95%2FIMG_8200-1.JPG&amp;type=f54_54\" width=\"28\"/>,\n",
       " <img alt=\"\" height=\"28\" onerror=\"naver.common.handleImgError(this)\" src=\"https://search.pstatic.net/common/?src=http%3A%2F%2Fblogfiles.naver.net%2FMjAyMjEyMzBfMjAz%2FMDAxNjcyNDA2Njc0ODIx.NwsJGrExazsIxVXFSAa2RmKeSmwSBsX6yNthaI-X4Xwg.OW4CXshfPvCWycA5sFFkhAAfroJsytJDVsqhM3oCHnEg.JPEG.gumle8234%2F1222.jpg&amp;type=f54_54\" width=\"28\"/>,\n",
       " <img alt=\"\" height=\"28\" onerror=\"naver.common.handleImgError(this)\" src=\"https://search.pstatic.net/common/?src=http%3A%2F%2Fblogfiles.naver.net%2FMjAyMTEwMjVfMjU0%2FMDAxNjM1MTQ4NDc5NDQz.KhdW5uEDBzf6U4NvQqSr7LzUj57NyFTGbQ3jCh0CObEg.eB50PLH11rgdCplE7ZeO9ZnXNCCGa6l33ANkooUVYUQg.JPEG.review0620%2F1.jpg&amp;type=f54_54\" width=\"28\"/>,\n",
       " <img alt=\"\" height=\"28\" onerror=\"naver.common.handleImgError(this)\" src=\"https://search.pstatic.net/common/?src=http%3A%2F%2Fblogfiles.naver.net%2FMjAxOTA5MTFfMTQ1%2FMDAxNTY4MTc2NzQ2NDk3.HJRs_UzAxGlcN9qmEGGXooyO8purd_HJx33Qm9-Q_QUg.voNslbwsVgl6jqjtzAT7jckEBQGl_XfEdiSYgudQx4Yg.JPEG.cbkb21%2F32.jpg&amp;type=f54_54\" width=\"28\"/>]"
      ]
     },
     "execution_count": 12,
     "metadata": {},
     "output_type": "execute_result"
    }
   ],
   "source": [
    "from bs4 import BeautifulSoup\n",
    "import requests\n",
    "from urllib.request import Request,urlopen\n",
    "from urllib import parse\n",
    "user_agent = 'Mozilla/5.0 (Windows NT 10.0; Win64; x64) AppleWebKit/537.36 (KHTML, like Gecko) Chrome/58.0.3029.110 Safari/537.3'\n",
    "headers = {'User-Agent': user_agent}\n",
    "\n",
    "base_url = \"https://www.google.com/search?q=\"\n",
    "tail_url = \"&source=lnms&tbm=isch\"\n",
    "main_url = parse.quote(\"청풍호반케이블카\")\n",
    "\n",
    "url = base_url + main_url + tail_url\n",
    "\n",
    "req = Request(url, headers = headers)\n",
    "\n",
    "page = urlopen(req)\n",
    "\n",
    "soup = BeautifulSoup(page, \"html.parser\")\n",
    "soup.find_all(\"img\")"
   ]
  },
  {
   "cell_type": "code",
   "execution_count": null,
   "metadata": {},
   "outputs": [],
   "source": []
  }
 ],
 "metadata": {
  "kernelspec": {
   "display_name": "base",
   "language": "python",
   "name": "python3"
  },
  "language_info": {
   "codemirror_mode": {
    "name": "ipython",
    "version": 3
   },
   "file_extension": ".py",
   "mimetype": "text/x-python",
   "name": "python",
   "nbconvert_exporter": "python",
   "pygments_lexer": "ipython3",
   "version": "3.11.5"
  }
 },
 "nbformat": 4,
 "nbformat_minor": 2
}
